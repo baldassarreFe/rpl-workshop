{
 "cells": [
  {
   "cell_type": "code",
   "execution_count": null,
   "metadata": {
    "pycharm": {
     "is_executing": false
    }
   },
   "outputs": [],
   "source": [
    "from workshop.dataset import CUBDataset\n",
    "from workshop.model import BirdNet\n",
    "from torch.utils.data import DataLoader\n",
    "from torchvision.transforms import Compose, RandomCrop, RandomHorizontalFlip, ToTensor, Resize\n",
    "import matplotlib.pyplot as plt\n",
    "import torch\n",
    "import numpy as np\n",
    "\n",
    "from pathlib import Path"
   ]
  },
  {
   "cell_type": "markdown",
   "metadata": {},
   "source": [
    "### View examples of training data"
   ]
  },
  {
   "cell_type": "code",
   "execution_count": null,
   "metadata": {
    "pycharm": {
     "is_executing": false
    }
   },
   "outputs": [],
   "source": [
    "datapath = \"/local_storage/datasets/CUB_20\"\n",
    "batch_size = 32\n",
    "\n",
    "ds_train = CUBDataset(\n",
    "        root=datapath,\n",
    "        train=True,\n",
    "        transforms=Compose([\n",
    "            Resize(256),\n",
    "            RandomCrop((224, 224), pad_if_needed=True),\n",
    "            RandomHorizontalFlip(),\n",
    "            ToTensor()\n",
    "        ])\n",
    "    )\n",
    "data_loader_train = DataLoader(\n",
    "    ds_train,\n",
    "    batch_size=batch_size,\n",
    "    shuffle=True,\n",
    "    num_workers=1)\n",
    "\n",
    "ds_test = CUBDataset(\n",
    "        root=datapath,\n",
    "        train=False,\n",
    "        transforms=Compose([\n",
    "            Resize(256),\n",
    "            RandomCrop((224, 224), pad_if_needed=True),\n",
    "            RandomHorizontalFlip(),\n",
    "            ToTensor()\n",
    "        ])\n",
    "    )\n",
    "data_loader_test = DataLoader(\n",
    "    ds_test,\n",
    "    batch_size=batch_size,\n",
    "    shuffle=True,\n",
    "    num_workers=1)"
   ]
  },
  {
   "cell_type": "code",
   "execution_count": null,
   "metadata": {
    "pycharm": {
     "is_executing": false
    }
   },
   "outputs": [],
   "source": [
    "EXAMPLES_TO_SHOW = 5\n",
    "batch = next(iter(data_loader_train))\n",
    "img_batch = batch[0]\n",
    "targets = batch[1]\n",
    "for imgIdx, image in enumerate(img_batch):\n",
    "    image = image.permute(1,2,0)\n",
    "    plt.imshow(image)\n",
    "    plt.show()\n",
    "    print(\"Example of: %s\" %(ds_train.label_to_class_name(targets[imgIdx].item())))\n",
    "    if imgIdx+1 == EXAMPLES_TO_SHOW:\n",
    "        break"
   ]
  },
  {
   "cell_type": "markdown",
   "metadata": {},
   "source": [
    "### Load trained model"
   ]
  },
  {
   "cell_type": "code",
   "execution_count": null,
   "metadata": {
    "pycharm": {
     "is_executing": false
    }
   },
   "outputs": [],
   "source": [
    "project_dir = Path(\"..\").resolve()\n",
    "\n",
    "#edit this to be a run you have actually conducted\n",
    "model = BirdNet(20)\n",
    "model_path = project_dir/\"runs/bs64_lr0.001_wd1e-05_NLZ9MDSO9J/final_model.pt\"\n",
    "model.classifier.load_state_dict(torch.load(model_path, map_location=torch.device('cpu')))"
   ]
  },
  {
   "cell_type": "markdown",
   "metadata": {},
   "source": [
    "### View inference examples on test data"
   ]
  },
  {
   "cell_type": "code",
   "execution_count": null,
   "metadata": {
    "collapsed": false,
    "jupyter": {
     "outputs_hidden": false
    },
    "pycharm": {
     "is_executing": false,
     "name": "#%%\n"
    }
   },
   "outputs": [],
   "source": [
    "EXAMPLES_TO_SHOW=5\n",
    "batch = next(iter(data_loader_test))\n",
    "input_ = batch[0]\n",
    "target = batch[1]\n",
    "output_ = model(input_)\n",
    "\n",
    "for datapointIdx, img in enumerate(input_): \n",
    "    img = input_[datapointIdx]\n",
    "    prediction = output_[datapointIdx].argmax().item()\n",
    "    pltImage = img.permute(1,2,0)\n",
    "    plt.imshow(pltImage)\n",
    "    plt.show()\n",
    "    print(\"Guessed class: %s, ground truth: %s\" %(ds_test.label_to_class_name(prediction), ds_test.label_to_class_name(target[datapointIdx].item())))\n",
    "    if(datapointIdx+1==EXAMPLES_TO_SHOW):\n",
    "        break    "
   ]
  },
  {
   "cell_type": "code",
   "execution_count": null,
   "metadata": {},
   "outputs": [],
   "source": []
  }
 ],
 "metadata": {
  "kernelspec": {
   "display_name": "Python 3",
   "language": "python",
   "name": "python3"
  },
  "language_info": {
   "codemirror_mode": {
    "name": "ipython",
    "version": 3
   },
   "file_extension": ".py",
   "mimetype": "text/x-python",
   "name": "python",
   "nbconvert_exporter": "python",
   "pygments_lexer": "ipython3",
   "version": "3.7.5"
  },
  "pycharm": {
   "stem_cell": {
    "cell_type": "raw",
    "metadata": {
     "collapsed": false
    },
    "source": []
   }
  }
 },
 "nbformat": 4,
 "nbformat_minor": 4
}
