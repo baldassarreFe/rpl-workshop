{
 "cells": [
  {
   "cell_type": "markdown",
   "metadata": {},
   "source": [
    "# SLURM job arrays\n",
    "\n",
    "How to run a parameter sweep using job arrays?"
   ]
  },
  {
   "cell_type": "markdown",
   "metadata": {},
   "source": [
    "## Using command-line arguments\n",
    "\n",
    "We have the args in a file, one per line.\n",
    "\n",
    "We use `SLURM_ARRAY_TASK_ID` to get the right line."
   ]
  },
  {
   "cell_type": "markdown",
   "metadata": {},
   "source": [
    "This is the python script that we want to run with different arguments:"
   ]
  },
  {
   "cell_type": "code",
   "execution_count": 1,
   "metadata": {},
   "outputs": [
    {
     "name": "stdout",
     "output_type": "stream",
     "text": [
      "Overwriting sums.py\n"
     ]
    }
   ],
   "source": [
    "%%writefile sums.py\n",
    "#!/usr/bin/env python3\n",
    "import os\n",
    "import math\n",
    "import argparse\n",
    "\n",
    "parser = argparse.ArgumentParser(\n",
    "    description=\"Sum first N integers (incl.), \"\n",
    "                \"optionally skipping multiples of k, \"\n",
    "                \"or squaring the numbers before summing\"\n",
    ")\n",
    "parser.add_argument('N', type=int)\n",
    "parser.add_argument('-k', type=int, default=None)\n",
    "parser.add_argument('-s', '--square', action='store_true')\n",
    "args = parser.parse_args()\n",
    "\n",
    "tot = 0\n",
    "for i in range(1, args.N+1):\n",
    "    if args.k is not None and i%args.k == 0: \n",
    "        continue\n",
    "    if args.square:\n",
    "        i = i**2\n",
    "    tot += i\n",
    "\n",
    "print(tot)"
   ]
  },
  {
   "cell_type": "markdown",
   "metadata": {},
   "source": [
    "This is the sbatch file that we will submit,\n",
    "it doesn't contain the `--array` parameter because we'll specify that upon submission.\n",
    "\n",
    "Variables used:\n",
    "- `SLURM_ARRAY_TASK_ID` provided by SLURM, it will be different for every job in the array\n",
    "- `ARGS_FILE` should be passed to the script upon submission\n",
    "\n",
    "The python script will run using the arguments contained in the `SLURM_ARRAY_TASK_ID`-th line of `ARGS_FILE` (indexed from 1)."
   ]
  },
  {
   "cell_type": "code",
   "execution_count": 2,
   "metadata": {},
   "outputs": [
    {
     "name": "stdout",
     "output_type": "stream",
     "text": [
      "Overwriting sums.sbatch\n"
     ]
    }
   ],
   "source": [
    "%%writefile sums.sbatch\n",
    "#!/bin/bash\n",
    "#SBATCH --output %A_%a.out\n",
    "\n",
    "echo \"This is job ${SLURM_JOB_ID}_${SLURM_ARRAY_TASK_ID} on ${SLURMD_NODENAME}\"\n",
    "\n",
    "ARGS=$(sed -n \"${SLURM_ARRAY_TASK_ID}p\" \"${ARGS_FILE}\")\n",
    "echo $ARGS\n",
    "python3 sums.py $ARGS"
   ]
  },
  {
   "cell_type": "markdown",
   "metadata": {},
   "source": [
    "This is a plain text file, each line corresponds to one set of parameters:"
   ]
  },
  {
   "cell_type": "code",
   "execution_count": 3,
   "metadata": {},
   "outputs": [
    {
     "name": "stdout",
     "output_type": "stream",
     "text": [
      "Overwriting sums.args\n"
     ]
    }
   ],
   "source": [
    "%%writefile sums.args\n",
    "10\n",
    "20\n",
    "15 -k 2\n",
    "32 -k 3 --square"
   ]
  },
  {
   "cell_type": "markdown",
   "metadata": {},
   "source": [
    "This submits the sbatch job. There is some bookkpeeing code, but the important bits are the `--array` and `--export` parameters of `sbatch`:"
   ]
  },
  {
   "cell_type": "code",
   "execution_count": 4,
   "metadata": {},
   "outputs": [
    {
     "name": "stdout",
     "output_type": "stream",
     "text": [
      "                    JobID      State ExitCode        NodeList \n",
      "------------------------- ---------- -------- --------------- \n",
      "125536_4                   COMPLETED      0:0           smaug \n",
      "125536_4.batch             COMPLETED      0:0           smaug \n",
      "125536_1                   COMPLETED      0:0           smaug \n",
      "125536_1.batch             COMPLETED      0:0           smaug \n",
      "125536_2                   COMPLETED      0:0           smaug \n",
      "125536_2.batch             COMPLETED      0:0           smaug \n",
      "125536_3                   COMPLETED      0:0           smaug \n",
      "125536_3.batch             COMPLETED      0:0           smaug \n",
      "\n",
      "125536_1.out\n",
      "This is job 125537_1 on smaug\n",
      "10\n",
      "55\n",
      "\n",
      "125536_2.out\n",
      "This is job 125538_2 on smaug\n",
      "20\n",
      "210\n",
      "\n",
      "125536_3.out\n",
      "This is job 125539_3 on smaug\n",
      "15 -k 2\n",
      "64\n",
      "\n",
      "125536_4.out\n",
      "This is job 125536_4 on smaug\n",
      "32 -k 3 --square\n",
      "7975\n",
      "\n"
     ]
    }
   ],
   "source": [
    "%%bash\n",
    "ARGS_FILE='sums.args'\n",
    "NUM_JOBS=$(wc -l < $ARGS_FILE)\n",
    "MAX_PARALLEL_JOBS=2\n",
    "\n",
    "JOBID=$(\n",
    "    sbatch \\\n",
    "    --parsable \\\n",
    "    --array 1-${NUM_JOBS}%${MAX_PARALLEL_JOBS} \\\n",
    "    --export ARGS_FILE=$ARGS_FILE \\\n",
    "    sums.sbatch\n",
    ")\n",
    "\n",
    "while [ -n \"$(squeue | grep ${JOBID})\" ]; do sleep 5; done\n",
    "sacct --job $JOBID --format jobid%-25,State,ExitCode,NodeList\n",
    "echo\n",
    "\n",
    "for f in ${JOBID}_*.out; do\n",
    "    echo $f\n",
    "    cat $f\n",
    "    echo\n",
    "done"
   ]
  },
  {
   "cell_type": "markdown",
   "metadata": {},
   "source": [
    "## Using config files\n",
    "\n",
    "Each run reads its parameters from a configuration file. We use `SLURM_ARRAY_TASK_ID` to get the right file."
   ]
  },
  {
   "cell_type": "markdown",
   "metadata": {},
   "source": [
    "This is the python script that we want to run with different configs:"
   ]
  },
  {
   "cell_type": "code",
   "execution_count": 5,
   "metadata": {},
   "outputs": [
    {
     "name": "stdout",
     "output_type": "stream",
     "text": [
      "Overwriting prods.py\n"
     ]
    }
   ],
   "source": [
    "%%writefile prods.py\n",
    "#!/usr/bin/env python3\n",
    "import sys\n",
    "import json\n",
    "\n",
    "\"\"\"\n",
    "Multiplies first N integers (incl.),\n",
    "optionally skipping multiples of k,\n",
    "or squaring the numbers before summing\n",
    "\"\"\"\n",
    "\n",
    "with open(sys.argv[1]) as f:\n",
    "    config = json.load(f)\n",
    "\n",
    "tot = 1\n",
    "for i in range(1, config['N']+1):\n",
    "    if 'k' in config is not None and i%config['k'] == 0:\n",
    "        continue\n",
    "    if config.get('square', False):\n",
    "        i = i**2\n",
    "    tot *= i\n",
    "\n",
    "print(tot)"
   ]
  },
  {
   "cell_type": "markdown",
   "metadata": {},
   "source": [
    "This is the sbatch file that we will submit,\n",
    "it doesn't contain the `--array` parameter because we'll specify that upon submission.\n",
    "\n",
    "Variables used:\n",
    "- `SLURM_ARRAY_TASK_ID` provided by SLURM, it will be different for every job in the array\n",
    "- `ARGS_PREFIX` should be passed to the script upon submission\n",
    "\n",
    "The python script will run using the config file indicated by `ARGS_PREFIX` and `SLURM_ARRAY_TASK_ID`."
   ]
  },
  {
   "cell_type": "code",
   "execution_count": 6,
   "metadata": {},
   "outputs": [
    {
     "name": "stdout",
     "output_type": "stream",
     "text": [
      "Overwriting prods.sbatch\n"
     ]
    }
   ],
   "source": [
    "%%writefile prods.sbatch\n",
    "#!/bin/bash\n",
    "#SBATCH --output %A_%a.out\n",
    "\n",
    "echo \"This is job ${SLURM_JOB_ID}_${SLURM_ARRAY_TASK_ID} on ${SLURMD_NODENAME}\"\n",
    "\n",
    "ARGS=\"${ARGS_PREFIX}_${SLURM_ARRAY_TASK_ID}.json\"\n",
    "cat \"$ARGS\"\n",
    "python3 prods.py \"$ARGS\""
   ]
  },
  {
   "cell_type": "markdown",
   "metadata": {},
   "source": [
    "These are the configs that we want to run. In practice, there will be another script that creates them."
   ]
  },
  {
   "cell_type": "code",
   "execution_count": 7,
   "metadata": {},
   "outputs": [
    {
     "name": "stdout",
     "output_type": "stream",
     "text": [
      "Writing prods_1.json\n"
     ]
    }
   ],
   "source": [
    "%%writefile prods_1.json\n",
    "{\n",
    "    \"N\": 10\n",
    "}"
   ]
  },
  {
   "cell_type": "code",
   "execution_count": 8,
   "metadata": {},
   "outputs": [
    {
     "name": "stdout",
     "output_type": "stream",
     "text": [
      "Writing prods_2.json\n"
     ]
    }
   ],
   "source": [
    "%%writefile prods_2.json\n",
    "{\n",
    "    \"N\": 10,\n",
    "    \"k\": 3\n",
    "}"
   ]
  },
  {
   "cell_type": "code",
   "execution_count": 9,
   "metadata": {},
   "outputs": [
    {
     "name": "stdout",
     "output_type": "stream",
     "text": [
      "Writing prods_3.json\n"
     ]
    }
   ],
   "source": [
    "%%writefile prods_3.json\n",
    "{\n",
    "    \"N\": 15,\n",
    "    \"k\": 7,\n",
    "    \"square\": true\n",
    "}"
   ]
  },
  {
   "cell_type": "markdown",
   "metadata": {},
   "source": [
    "This submits the sbatch job. There is some bookkpeeing code, but the important bits are the `--array` and `--export` parameters of `sbatch`:"
   ]
  },
  {
   "cell_type": "code",
   "execution_count": 10,
   "metadata": {},
   "outputs": [
    {
     "name": "stdout",
     "output_type": "stream",
     "text": [
      "                    JobID      State ExitCode        NodeList \n",
      "------------------------- ---------- -------- --------------- \n",
      "125540_3                   COMPLETED      0:0        belegost \n",
      "125540_3.batch             COMPLETED      0:0        belegost \n",
      "125540_1                   COMPLETED      0:0           smaug \n",
      "125540_1.batch             COMPLETED      0:0           smaug \n",
      "125540_2                   COMPLETED      0:0           smaug \n",
      "125540_2.batch             COMPLETED      0:0           smaug \n",
      "\n",
      "125540_1.out\n",
      "This is job 125541_1 on smaug\n",
      "{\n",
      "    \"N\": 10\n",
      "}\n",
      "3628800\n",
      "\n",
      "125540_2.out\n",
      "This is job 125542_2 on smaug\n",
      "{\n",
      "    \"N\": 10,\n",
      "    \"k\": 3\n",
      "}\n",
      "22400\n",
      "\n",
      "125540_3.out\n",
      "This is job 125540_3 on belegost\n",
      "{\n",
      "    \"N\": 15,\n",
      "    \"k\": 7,\n",
      "    \"square\": true\n",
      "}\n",
      "178052087955456000000\n",
      "\n"
     ]
    }
   ],
   "source": [
    "%%bash\n",
    "\n",
    "ARGS_PREFIX='prods'\n",
    "NUM_JOBS=$(find . -name \"${ARGS_PREFIX}_*.json\" -printf '.' | wc -c)\n",
    "MAX_PARALLEL_JOBS=2\n",
    "\n",
    "JOBID=$(\n",
    "    sbatch \\\n",
    "    --parsable \\\n",
    "    --array 1-${NUM_JOBS}%${MAX_PARALLEL_JOBS} \\\n",
    "    --export ARGS_PREFIX=$ARGS_PREFIX \\\n",
    "    prods.sbatch\n",
    ")\n",
    "\n",
    "while [ -n \"$(squeue | grep ${JOBID})\" ]; do sleep 5; done\n",
    "sacct --job $JOBID --format jobid%-25,State,ExitCode,NodeList\n",
    "echo\n",
    "\n",
    "for f in ${JOBID}_*.out; do\n",
    "    echo $f\n",
    "    cat $f\n",
    "    echo\n",
    "done"
   ]
  }
 ],
 "metadata": {
  "kernelspec": {
   "display_name": "Python 3",
   "language": "python",
   "name": "python3"
  },
  "language_info": {
   "codemirror_mode": {
    "name": "ipython",
    "version": 3
   },
   "file_extension": ".py",
   "mimetype": "text/x-python",
   "name": "python",
   "nbconvert_exporter": "python",
   "pygments_lexer": "ipython3",
   "version": "3.8.1"
  }
 },
 "nbformat": 4,
 "nbformat_minor": 4
}
